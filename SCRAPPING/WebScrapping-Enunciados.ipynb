{
 "cells": [
  {
   "cell_type": "code",
   "execution_count": 1,
   "id": "b7bba36d-3985-49b4-8da6-09cebe0a826a",
   "metadata": {},
   "outputs": [],
   "source": [
    "#Exercicios Web Scrapping"
   ]
  },
  {
   "cell_type": "code",
   "execution_count": 2,
   "id": "9b8e139f-e017-45af-8059-4f544a7ebeff",
   "metadata": {},
   "outputs": [],
   "source": [
    "#1.Mostra a biografía de Carlos Sainz"
   ]
  },
  {
   "cell_type": "code",
   "execution_count": 3,
   "id": "a3c19c86-616f-434f-8d65-433829715fac",
   "metadata": {},
   "outputs": [],
   "source": [
    "#2.Mostra a posición máis alta de Carlos Sainz nunha carreira"
   ]
  },
  {
   "cell_type": "code",
   "execution_count": 4,
   "id": "3d33386c-f393-4448-906b-40aaa8ded415",
   "metadata": {},
   "outputs": [],
   "source": [
    "#3.Mostra o número de mundiais que ten Fernando Alonso"
   ]
  },
  {
   "cell_type": "code",
   "execution_count": 5,
   "id": "a26c5200-0d2e-4d51-a9b6-9e5e1343b8c6",
   "metadata": {},
   "outputs": [],
   "source": [
    "#4.Mostra o nome do equipo de Lewis Hamilton"
   ]
  },
  {
   "cell_type": "code",
   "execution_count": null,
   "id": "b56c379c-58ec-4fb4-b610-2c46e53ba1b4",
   "metadata": {},
   "outputs": [],
   "source": [
    "#5.Busca na páxina dos 40 principais o título da canción máis popular"
   ]
  }
 ],
 "metadata": {
  "kernelspec": {
   "display_name": "Python 3 (ipykernel)",
   "language": "python",
   "name": "python3"
  },
  "language_info": {
   "codemirror_mode": {
    "name": "ipython",
    "version": 3
   },
   "file_extension": ".py",
   "mimetype": "text/x-python",
   "name": "python",
   "nbconvert_exporter": "python",
   "pygments_lexer": "ipython3",
   "version": "3.9.7"
  }
 },
 "nbformat": 4,
 "nbformat_minor": 5
}
