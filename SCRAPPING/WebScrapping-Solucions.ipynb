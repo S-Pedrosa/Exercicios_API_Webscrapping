{
 "cells": [
  {
   "cell_type": "code",
   "execution_count": 10,
   "id": "8306e9eb-ee19-46a5-88b2-850880c00a98",
   "metadata": {},
   "outputs": [],
   "source": [
    "import requests\n",
    "from bs4 import BeautifulSoup"
   ]
  },
  {
   "cell_type": "code",
   "execution_count": null,
   "id": "ef4f230c-3dec-4f65-931f-6278dd2426f3",
   "metadata": {},
   "outputs": [],
   "source": [
    "#1.Mostra a biografía de Carlos Sainz"
   ]
  },
  {
   "cell_type": "code",
   "execution_count": 9,
   "id": "17901deb-b612-4dfe-9b1b-985f98ace082",
   "metadata": {},
   "outputs": [
    {
     "data": {
      "text/plain": [
       "'\\nHe’s the matador from Madrid racing royalty.\\xa0\\nAfter entering F1’s Bull Ring paired alongside Max Verstappen at Toro Rosso in 2015, Sainz quickly showed his fighting spirit. A tenacious racer, he puts the car on the edge as he hustles his way through the pack. No wonder Sainz has earned the nickname Chilli.\\nBut the Spaniard is intelligent as well as instinctive, thinking his way through a race and into the points. This calm temperament follows him off track where he remains unfazed by the pressures of forging a Grand Prix career with a famous name.\\xa0\\nSainz is the son of double World Rally champion, also his namesake, and has brought some of Dad’s driving skills to the F1 circuit – junior loves a delicious dose of drift for one.\\xa0\\nAfter following in his famous father’s tyre tracks, Sainz has had big racing boots to fill – first at McLaren where he replaced his childhood hero Fernando Alonso, and now at Ferrari, in the seat formerly owned by Sebastian Vettel. It is never easy living in the shadow of sporting giants, but Sainz has shown the drive and disposition to deal with it. Vamos!\\n'"
      ]
     },
     "execution_count": 9,
     "metadata": {},
     "output_type": "execute_result"
    }
   ],
   "source": [
    "url = \"https://www.formula1.com/en/drivers/carlos-sainz.html\"\n",
    "headers = { 'User-Agent' : 'Mozilla/5.0 (X11; Ubuntu; Linux x86_64; rv:94.0) Gecko/20100101 Firefox/94.0' }\n",
    "paxina = requests.get(url, headers = headers)\n",
    "soup = BeautifulSoup(paxina.content,'html.parser')\n",
    "bio = soup.find_all('div', {'class':'text parbase'})[1].text\n",
    "bio"
   ]
  },
  {
   "cell_type": "code",
   "execution_count": 11,
   "id": "3153d958-568a-4c5b-9a85-0b8d124587c9",
   "metadata": {},
   "outputs": [],
   "source": [
    "#2.Mostra a posición máis alta de Carlos Sainz nunha carreira"
   ]
  },
  {
   "cell_type": "code",
   "execution_count": 31,
   "id": "a326ec6b-10d5-410d-8a81-dc132a77835b",
   "metadata": {},
   "outputs": [
    {
     "name": "stdout",
     "output_type": "stream",
     "text": [
      "\n",
      "Highest race finish\n",
      " 2 (x2)\n"
     ]
    }
   ],
   "source": [
    "texto = soup.find_all('th',{'class':'stat-key'})\n",
    "pos = soup.find_all('td',{'class':'stat-value'})\n",
    "pos_mais_alta=texto[6].text\n",
    "veces=pos[6].text\n",
    "print(\"{} {}\".format(pos_mais_alta,veces))"
   ]
  },
  {
   "cell_type": "code",
   "execution_count": 30,
   "id": "3a05cee3-4b46-4c98-b8c2-e9fd5e58aaa5",
   "metadata": {},
   "outputs": [],
   "source": [
    "#3.Mostra o número de mundiais que ten Fernando Alonso"
   ]
  },
  {
   "cell_type": "code",
   "execution_count": 35,
   "id": "09153adb-d1c5-437c-b206-c8ec48d600af",
   "metadata": {},
   "outputs": [
    {
     "name": "stdout",
     "output_type": "stream",
     "text": [
      "\n",
      "World Championships\n",
      " 2\n"
     ]
    }
   ],
   "source": [
    "url = \"https://www.formula1.com/en/drivers/fernando-alonso.html\"\n",
    "headers = { 'User-Agent' : 'Mozilla/5.0 (X11; Ubuntu; Linux x86_64; rv:94.0) Gecko/20100101 Firefox/94.0' }\n",
    "paxina = requests.get(url, headers = headers)\n",
    "soup = BeautifulSoup(paxina.content,'html.parser')\n",
    "texto = soup.find_all('th',{'class':'stat-key'})\n",
    "num_mundiais = soup.find_all('td',{'class':'stat-value'})\n",
    "mundiais=texto[5].text\n",
    "veces=num_mundiais[5].text\n",
    "print(\"{} {}\".format(mundiais,veces))"
   ]
  },
  {
   "cell_type": "code",
   "execution_count": null,
   "id": "d9d50181-c52d-4cd9-95c1-e1e0fb3f96d4",
   "metadata": {},
   "outputs": [],
   "source": [
    "#4.Mostra o nome do equipo de Lewis Hamilton"
   ]
  },
  {
   "cell_type": "code",
   "execution_count": 57,
   "id": "8943d6a1-4cef-4f25-8e92-958c9f14430b",
   "metadata": {},
   "outputs": [
    {
     "name": "stdout",
     "output_type": "stream",
     "text": [
      "\n",
      "Team\n",
      " Mercedes\n"
     ]
    }
   ],
   "source": [
    "url = \"https://www.formula1.com/en/drivers/lewis-hamilton.html\"\n",
    "headers = { 'User-Agent' : 'Mozilla/5.0 (X11; Ubuntu; Linux x86_64; rv:94.0) Gecko/20100101 Firefox/94.0' }\n",
    "paxina = requests.get(url, headers = headers)\n",
    "soup = BeautifulSoup(paxina.content,'html.parser')\n",
    "texto = soup.find_all('th',{'class':'stat-key'})\n",
    "nom_equipo = soup.find_all('td',{'class':'stat-value'})\n",
    "equipo=texto[0].text\n",
    "nome_equipo=nom_equipo[0].text\n",
    "print(\"{} {}\".format(equipo,nome_equipo))"
   ]
  },
  {
   "cell_type": "code",
   "execution_count": 58,
   "id": "f357a98a-0b9a-453e-8a15-11189316220d",
   "metadata": {},
   "outputs": [],
   "source": [
    "#5.Busca na páxina dos 40 principais o título da canción máis popular"
   ]
  },
  {
   "cell_type": "code",
   "execution_count": 59,
   "id": "2c8feeed-f916-48ef-a06e-f736210a8156",
   "metadata": {},
   "outputs": [],
   "source": [
    "url = 'https://los40.com/lista40/'\n",
    "response = requests.get(url)\n",
    "soup = BeautifulSoup(response.content,'html.parser')"
   ]
  },
  {
   "cell_type": "code",
   "execution_count": 60,
   "id": "976e137b-3d79-4d47-b8a5-4b8bef19f3db",
   "metadata": {},
   "outputs": [
    {
     "data": {
      "text/plain": [
       "'My universe'"
      ]
     },
     "execution_count": 60,
     "metadata": {},
     "output_type": "execute_result"
    }
   ],
   "source": [
    "soup.find(class_='info_grupo').p.text"
   ]
  }
 ],
 "metadata": {
  "kernelspec": {
   "display_name": "Python 3 (ipykernel)",
   "language": "python",
   "name": "python3"
  },
  "language_info": {
   "codemirror_mode": {
    "name": "ipython",
    "version": 3
   },
   "file_extension": ".py",
   "mimetype": "text/x-python",
   "name": "python",
   "nbconvert_exporter": "python",
   "pygments_lexer": "ipython3",
   "version": "3.9.7"
  }
 },
 "nbformat": 4,
 "nbformat_minor": 5
}
