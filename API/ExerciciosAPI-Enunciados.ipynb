{
 "cells": [
  {
   "cell_type": "code",
   "execution_count": 2,
   "id": "cc35eaec-4b7f-46cd-8b10-25e23c3e5b32",
   "metadata": {},
   "outputs": [],
   "source": [
    "#Exercicios POKEAPI\n",
    "#url_documentacion:https://pokeapi.api-docs.io/v2.0/intro/nJa4jkWuFLPX3PWiD\n",
    "#url_base:https://pokeapi.co/api/v2/"
   ]
  },
  {
   "cell_type": "code",
   "execution_count": 3,
   "id": "c341f13c-14a6-458e-b6bd-b6afbeacb54f",
   "metadata": {},
   "outputs": [],
   "source": [
    "#1.Amosa a información do Pokémon \"Pikachu\""
   ]
  },
  {
   "cell_type": "code",
   "execution_count": 4,
   "id": "cb390da4-2baa-4409-9df0-a56eb52348fc",
   "metadata": {},
   "outputs": [],
   "source": [
    "#2.Obtén os datos dos Pokémon entre o número 387 e o 450"
   ]
  },
  {
   "cell_type": "code",
   "execution_count": 5,
   "id": "c4ed56e9-ab49-4293-8dcb-ce2729499249",
   "metadata": {},
   "outputs": [],
   "source": [
    "#3.Obtén os nomes dos Pokémon entre o 1 e o 10"
   ]
  },
  {
   "cell_type": "code",
   "execution_count": 6,
   "id": "1bc54519-0264-4af8-b2bf-2adfec2f42a8",
   "metadata": {},
   "outputs": [],
   "source": [
    "#4.Obtén os nomes dos diferentes métodos de encontro con Pokémon"
   ]
  },
  {
   "cell_type": "code",
   "execution_count": 7,
   "id": "74f11f1f-c926-41a7-bd19-f715023c43b6",
   "metadata": {},
   "outputs": [],
   "source": [
    "#5.Obtén o nome dos diferentes métodos evolutivos"
   ]
  },
  {
   "cell_type": "code",
   "execution_count": 8,
   "id": "e049a46e-3d45-49a6-af34-0f0bfd617c49",
   "metadata": {},
   "outputs": [],
   "source": [
    "#Exercicios API OpenFootball\n",
    "#url_documentacion:https://github.com/openfootball/football.json\n",
    "#url_base:https://raw.githubusercontent.com/openfootball/football.json/master/"
   ]
  },
  {
   "cell_type": "code",
   "execution_count": 9,
   "id": "71f8b27f-6250-4d76-bc8d-5ac99469065d",
   "metadata": {},
   "outputs": [],
   "source": [
    "#1.Obtén o nome de todos os equipos da Liga Española da tempada 2015-2016"
   ]
  },
  {
   "cell_type": "code",
   "execution_count": 10,
   "id": "f1f21ccd-9e67-4f51-8ca8-a8c73e49c996",
   "metadata": {},
   "outputs": [],
   "source": [
    "#2.Obtén os resultados da Xornada 1 da Liga Española da tempada 2012-2013"
   ]
  },
  {
   "cell_type": "code",
   "execution_count": 11,
   "id": "79bd839f-e47f-4391-bff8-09c83f8502f2",
   "metadata": {},
   "outputs": [],
   "source": [
    "#3.Mostra os equipos dos grupos [A,B,D e F] da Champions de 2013-2014"
   ]
  },
  {
   "cell_type": "code",
   "execution_count": 12,
   "id": "49f5047e-2d05-472d-adb4-5f64c10594ae",
   "metadata": {},
   "outputs": [],
   "source": [
    "#4.Mostra que equipos disputaron a final de Champions de 2016 e cal foi o resultado"
   ]
  },
  {
   "cell_type": "code",
   "execution_count": null,
   "id": "cbfb7653-244d-4d2c-b8ee-d9cd246f91dc",
   "metadata": {},
   "outputs": [],
   "source": [
    "#5.Mostra o resultado do partido do RC Deportivo da Coruña da Xornada 9 de 2ª División na tempada 2018-2019"
   ]
  }
 ],
 "metadata": {
  "kernelspec": {
   "display_name": "Python 3 (ipykernel)",
   "language": "python",
   "name": "python3"
  },
  "language_info": {
   "codemirror_mode": {
    "name": "ipython",
    "version": 3
   },
   "file_extension": ".py",
   "mimetype": "text/x-python",
   "name": "python",
   "nbconvert_exporter": "python",
   "pygments_lexer": "ipython3",
   "version": "3.9.7"
  }
 },
 "nbformat": 4,
 "nbformat_minor": 5
}
